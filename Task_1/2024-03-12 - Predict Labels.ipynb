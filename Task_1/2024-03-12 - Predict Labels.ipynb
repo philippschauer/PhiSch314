{
 "cells": [
  {
   "cell_type": "code",
   "execution_count": 6,
   "metadata": {},
   "outputs": [],
   "source": [
    "import pickle\n",
    "import keras\n",
    "from gensim.models import Word2Vec\n",
    "import numpy as np\n",
    "from utils.params import params\n",
    "\n",
    "embedding_dim = params['embedding_dim']"
   ]
  },
  {
   "cell_type": "code",
   "execution_count": 7,
   "metadata": {},
   "outputs": [],
   "source": [
    "with open('utils/tokenizer.pkl', 'rb') as f:\n",
    "    tokenizer = pickle.load(f)\n",
    "\n",
    "with open('utils/label_encoder.pkl', 'rb') as f:\n",
    "    label_encoder = pickle.load(f)\n",
    "\n",
    "model = keras.models.load_model('utils/model.h5')\n",
    "\n",
    "word2vec_model = Word2Vec.load('utils/word2vec_model.bin')"
   ]
  },
  {
   "cell_type": "code",
   "execution_count": 8,
   "metadata": {},
   "outputs": [],
   "source": [
    "def text_to_embeddings(text, word2vec_model):\n",
    "    tokens = tokenizer(text)\n",
    "    embeddings = []\n",
    "    for token in tokens:\n",
    "        if token in word2vec_model.wv:\n",
    "            embeddings.append(word2vec_model.wv[token])\n",
    "    if embeddings:\n",
    "        return np.mean(embeddings, axis=0) \n",
    "    else:\n",
    "        return np.zeros(embedding_dim)\n"
   ]
  },
  {
   "cell_type": "code",
   "execution_count": 9,
   "metadata": {},
   "outputs": [],
   "source": [
    "tuple_test_data = (\n",
    "    ('zucker fabrik', 'ft'),\n",
    "    ('Lebensmittel kommssionierung', 'ft'),\n",
    "    ('geländer biegen', 'mr'),\n",
    "    ('gebäudeausrüstung technische', 'ct'),\n",
    "    ('kürbiskernöl softgels', 'ft')\n",
    ")"
   ]
  },
  {
   "cell_type": "code",
   "execution_count": 10,
   "metadata": {},
   "outputs": [
    {
     "name": "stdout",
     "output_type": "stream",
     "text": [
      "1/1 [==============================] - 0s 73ms/step\n"
     ]
    },
    {
     "data": {
      "text/plain": [
       "'ft'"
      ]
     },
     "execution_count": 10,
     "metadata": {},
     "output_type": "execute_result"
    }
   ],
   "source": [
    "def predict_word(word: str):\n",
    "    new_word_embedding = text_to_embeddings(word, word2vec_model).reshape(1, -1) \n",
    "    # Predict the label for the embedded word\n",
    "    predicted_probabilities = model.predict(new_word_embedding)\n",
    "    predicted_label_index = predicted_probabilities.argmax(axis=1)[0]\n",
    "    predicted_label = label_encoder.inverse_transform([predicted_label_index])\n",
    "    return predicted_label[0]\n",
    "\n",
    "predict_word(word='Lebensmittel kommssionierung')"
   ]
  },
  {
   "cell_type": "code",
   "execution_count": 11,
   "metadata": {},
   "outputs": [
    {
     "name": "stdout",
     "output_type": "stream",
     "text": [
      "1/1 [==============================] - 0s 38ms/step\n",
      "For word 'zucker fabrik'\n",
      "We predict ch\n",
      "The correct solution is ft\n",
      "\n",
      "1/1 [==============================] - 0s 26ms/step\n",
      "For word 'Lebensmittel kommssionierung'\n",
      "We predict ft\n",
      "The correct solution is ft\n",
      "\n",
      "1/1 [==============================] - 0s 24ms/step\n",
      "For word 'geländer biegen'\n",
      "We predict mr\n",
      "The correct solution is mr\n",
      "\n",
      "1/1 [==============================] - 0s 28ms/step\n",
      "For word 'gebäudeausrüstung technische'\n",
      "We predict ct\n",
      "The correct solution is ct\n",
      "\n",
      "1/1 [==============================] - 0s 31ms/step\n",
      "For word 'kürbiskernöl softgels'\n",
      "We predict ct\n",
      "The correct solution is ft\n",
      "\n"
     ]
    }
   ],
   "source": [
    "for sample in tuple_test_data:\n",
    "    word = sample[0]\n",
    "    correct = sample[1]\n",
    "    new_word_embedding = text_to_embeddings(word, word2vec_model).reshape(1, -1) \n",
    "\n",
    "    # Predict the label for the embedded word\n",
    "    predicted_probabilities = model.predict(new_word_embedding)\n",
    "    predicted_label_index = predicted_probabilities.argmax(axis=1)[0]\n",
    "    predicted_label = label_encoder.inverse_transform([predicted_label_index])\n",
    "\n",
    "    print(f'For word \\'{word}\\'')\n",
    "    print(f'We predict {predicted_label[0]}')\n",
    "    print(f'The correct solution is {correct}')\n",
    "    print()\n"
   ]
  },
  {
   "cell_type": "code",
   "execution_count": null,
   "metadata": {},
   "outputs": [],
   "source": []
  }
 ],
 "metadata": {
  "kernelspec": {
   "display_name": "projects",
   "language": "python",
   "name": "python3"
  },
  "language_info": {
   "codemirror_mode": {
    "name": "ipython",
    "version": 3
   },
   "file_extension": ".py",
   "mimetype": "text/x-python",
   "name": "python",
   "nbconvert_exporter": "python",
   "pygments_lexer": "ipython3",
   "version": "3.11.4"
  }
 },
 "nbformat": 4,
 "nbformat_minor": 2
}
