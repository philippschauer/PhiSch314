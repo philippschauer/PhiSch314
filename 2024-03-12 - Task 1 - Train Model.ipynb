{
 "cells": [
  {
   "cell_type": "code",
   "execution_count": 2,
   "metadata": {},
   "outputs": [
    {
     "name": "stderr",
     "output_type": "stream",
     "text": [
      "2024-03-12 15:52:48.535743: I tensorflow/core/platform/cpu_feature_guard.cc:182] This TensorFlow binary is optimized to use available CPU instructions in performance-critical operations.\n",
      "To enable the following instructions: AVX2 FMA, in other operations, rebuild TensorFlow with the appropriate compiler flags.\n"
     ]
    }
   ],
   "source": [
    "import pandas as pd\n",
    "from sklearn.model_selection import train_test_split\n",
    "from keras.models import Sequential\n",
    "from keras.layers import Dense\n",
    "\n",
    "filepath_in = 'data/processed_data.csv'"
   ]
  },
  {
   "cell_type": "code",
   "execution_count": 3,
   "metadata": {},
   "outputs": [],
   "source": [
    "df = pd.read_csv(filepath_in)\n",
    "X = df[[col for col in df if col.startswith('emb_')]]\n",
    "y = pd.get_dummies(df['label'])"
   ]
  },
  {
   "cell_type": "code",
   "execution_count": 4,
   "metadata": {},
   "outputs": [
    {
     "name": "stdout",
     "output_type": "stream",
     "text": [
      "Epoch 1/10\n",
      "746/746 [==============================] - 2s 2ms/step - loss: 1.5928 - accuracy: 0.3498 - val_loss: 1.5176 - val_accuracy: 0.3834\n",
      "Epoch 2/10\n",
      "746/746 [==============================] - 1s 2ms/step - loss: 1.4852 - accuracy: 0.3937 - val_loss: 1.4692 - val_accuracy: 0.3964\n",
      "Epoch 3/10\n",
      "746/746 [==============================] - 1s 2ms/step - loss: 1.4451 - accuracy: 0.4139 - val_loss: 1.4337 - val_accuracy: 0.4179\n",
      "Epoch 4/10\n",
      "746/746 [==============================] - 1s 2ms/step - loss: 1.4151 - accuracy: 0.4292 - val_loss: 1.4067 - val_accuracy: 0.4375\n",
      "Epoch 5/10\n",
      "746/746 [==============================] - 1s 2ms/step - loss: 1.3954 - accuracy: 0.4445 - val_loss: 1.3882 - val_accuracy: 0.4442\n",
      "Epoch 6/10\n",
      "746/746 [==============================] - 2s 3ms/step - loss: 1.3725 - accuracy: 0.4537 - val_loss: 1.3723 - val_accuracy: 0.4538\n",
      "Epoch 7/10\n",
      "746/746 [==============================] - 1s 2ms/step - loss: 1.3525 - accuracy: 0.4611 - val_loss: 1.3558 - val_accuracy: 0.4447\n",
      "Epoch 8/10\n",
      "746/746 [==============================] - 2s 2ms/step - loss: 1.3339 - accuracy: 0.4691 - val_loss: 1.3368 - val_accuracy: 0.4620\n",
      "Epoch 9/10\n",
      "746/746 [==============================] - 1s 2ms/step - loss: 1.3190 - accuracy: 0.4746 - val_loss: 1.3187 - val_accuracy: 0.4665\n",
      "Epoch 10/10\n",
      "746/746 [==============================] - 1s 2ms/step - loss: 1.3084 - accuracy: 0.4791 - val_loss: 1.3092 - val_accuracy: 0.4690\n",
      "234/234 [==============================] - 0s 1ms/step - loss: 1.3177 - accuracy: 0.4722\n",
      "Test Loss: 1.317688226699829, Test Accuracy: 0.4721812605857849\n"
     ]
    }
   ],
   "source": [
    "# Split the data into training and testing sets\n",
    "X_train, X_test, y_train, y_test = train_test_split(X, y, test_size=0.2, random_state=42)\n",
    "\n",
    "# Define the model architecture\n",
    "model = Sequential()\n",
    "model.add(Dense(64, input_dim=X_train.shape[1], activation='relu'))  # Input layer\n",
    "model.add(Dense(32, activation='relu'))  # Hidden layer\n",
    "model.add(Dense(y_train.shape[1], activation='softmax'))  # Output layer\n",
    "\n",
    "# Compile the model\n",
    "model.compile(loss='categorical_crossentropy', optimizer='adam', metrics=['accuracy'])\n",
    "\n",
    "# Train the model\n",
    "history = model.fit(X_train, y_train, epochs=10, batch_size=32, validation_split=0.2)\n",
    "\n",
    "# Evaluate the model on the test set\n",
    "loss, accuracy = model.evaluate(X_test, y_test)\n",
    "print(f'Test Loss: {loss}, Test Accuracy: {accuracy}')"
   ]
  },
  {
   "cell_type": "code",
   "execution_count": null,
   "metadata": {},
   "outputs": [],
   "source": []
  }
 ],
 "metadata": {
  "kernelspec": {
   "display_name": "projects",
   "language": "python",
   "name": "python3"
  },
  "language_info": {
   "codemirror_mode": {
    "name": "ipython",
    "version": 3
   },
   "file_extension": ".py",
   "mimetype": "text/x-python",
   "name": "python",
   "nbconvert_exporter": "python",
   "pygments_lexer": "ipython3",
   "version": "3.11.4"
  }
 },
 "nbformat": 4,
 "nbformat_minor": 2
}
