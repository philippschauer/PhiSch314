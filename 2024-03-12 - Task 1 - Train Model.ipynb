{
 "cells": [
  {
   "cell_type": "code",
   "execution_count": 1,
   "metadata": {},
   "outputs": [
    {
     "name": "stderr",
     "output_type": "stream",
     "text": [
      "2024-03-12 20:32:20.284282: I tensorflow/core/platform/cpu_feature_guard.cc:182] This TensorFlow binary is optimized to use available CPU instructions in performance-critical operations.\n",
      "To enable the following instructions: AVX2 FMA, in other operations, rebuild TensorFlow with the appropriate compiler flags.\n"
     ]
    }
   ],
   "source": [
    "import pandas as pd\n",
    "from sklearn.model_selection import train_test_split\n",
    "from keras.models import Sequential\n",
    "from keras.layers import Dense\n",
    "import seaborn as sns\n",
    "import matplotlib.pyplot as plt\n",
    "import pickle\n",
    "from sklearn.feature_extraction.text import CountVectorizer\n",
    "from gensim.models import Word2Vec\n",
    "import numpy as np\n",
    "from sklearn.preprocessing import LabelEncoder\n",
    "\n",
    "filepath_in = 'data/sample_data_for_task1.csv'"
   ]
  },
  {
   "cell_type": "markdown",
   "metadata": {},
   "source": [
    "### Load Data and preprocess it"
   ]
  },
  {
   "cell_type": "code",
   "execution_count": null,
   "metadata": {},
   "outputs": [],
   "source": [
    "df = pd.read_csv(filepath_in)\n",
    "df.dropna(inplace=True)\n",
    "\n",
    "label_encoder = LabelEncoder()\n",
    "\n",
    "# We have imbalanced data so we sample the same amount from each class\n",
    "df_list = []\n",
    "\n",
    "for sub in df['label'].unique():\n",
    "    df_temp = df[df['label'] == sub]\n",
    "    for i in range(3):\n",
    "        df_list.append(df_temp.sample(2500))\n",
    "\n",
    "df_new = pd.concat(df_list)\n",
    "\n",
    "X = df_new['text'].reset_index().drop(columns='index')\n",
    "y = df_new['label']\n",
    "\n",
    "# Split the data into training and testing sets\n",
    "X_train, X_test, y_train, y_test = train_test_split(X, y, test_size=0.2, random_state=42)"
   ]
  },
  {
   "cell_type": "code",
   "execution_count": 3,
   "metadata": {},
   "outputs": [],
   "source": [
    "y_train = label_encoder.fit_transform(y_train)\n",
    "y_test = label_encoder.transform(y_test)\n",
    "\n",
    "y_train = pd.get_dummies(y_train)\n",
    "y_test = pd.get_dummies(y_test)"
   ]
  },
  {
   "cell_type": "code",
   "execution_count": null,
   "metadata": {},
   "outputs": [],
   "source": [
    "# Save the Label Encoder\n",
    "with open('label_encoder.pkl', 'rb') as f:\n",
    "    label_encoder = pickle.load(f)"
   ]
  },
  {
   "cell_type": "markdown",
   "metadata": {},
   "source": [
    "### Vectorize the data"
   ]
  },
  {
   "cell_type": "code",
   "execution_count": 4,
   "metadata": {},
   "outputs": [],
   "source": [
    "vectorizer = CountVectorizer()\n",
    "tokenizer = vectorizer.build_tokenizer()\n",
    "tokenized_text = X_train['text'].apply(tokenizer)"
   ]
  },
  {
   "cell_type": "code",
   "execution_count": 5,
   "metadata": {},
   "outputs": [],
   "source": [
    "with open('tokenizer.pkl', 'wb') as f:\n",
    "    pickle.dump(tokenizer, f)"
   ]
  },
  {
   "cell_type": "code",
   "execution_count": 6,
   "metadata": {},
   "outputs": [],
   "source": [
    "embedding_dim = 50 \n",
    "window_size = 1\n",
    "min_count = 2\n",
    "\n",
    "word2vec_model = Word2Vec(\n",
    "    sentences=tokenized_text, \n",
    "    vector_size=embedding_dim, \n",
    "    window=window_size, \n",
    "    min_count=min_count\n",
    ")\n",
    "\n",
    "word2vec_model.save('word2vec_model.bin')"
   ]
  },
  {
   "cell_type": "code",
   "execution_count": 7,
   "metadata": {},
   "outputs": [],
   "source": [
    "def text_to_embeddings(text, word2vec_model=word2vec_model):\n",
    "    tokens = tokenizer(text)\n",
    "    embeddings = []\n",
    "    for token in tokens:\n",
    "        if token in word2vec_model.wv:\n",
    "            embeddings.append(word2vec_model.wv[token])\n",
    "    if embeddings:\n",
    "        return np.mean(embeddings, axis=0)  # Average of word embeddings in the text\n",
    "    else:\n",
    "        return np.zeros(embedding_dim)  # If no embeddings found, return zero vectors"
   ]
  },
  {
   "cell_type": "code",
   "execution_count": 8,
   "metadata": {},
   "outputs": [],
   "source": [
    "def embed_df(df_in):\n",
    "    df = df_in.copy()\n",
    "    df['embeddings'] = df['text'].apply(text_to_embeddings)\n",
    "    col_list = [f'emb_{i}' for i in range(embedding_dim)]\n",
    "    df[col_list] = pd.DataFrame(df['embeddings'].tolist(), index= df.index)\n",
    "    df = df.drop(columns=['text', 'embeddings'])\n",
    "    return df\n",
    "\n",
    "X_train = embed_df(X_train)\n",
    "X_test = embed_df(X_test)"
   ]
  },
  {
   "cell_type": "markdown",
   "metadata": {},
   "source": [
    "### Create and Train Model"
   ]
  },
  {
   "cell_type": "code",
   "execution_count": 9,
   "metadata": {},
   "outputs": [],
   "source": [
    "# Define the model architecture\n",
    "model = Sequential()\n",
    "model.add(Dense(64, input_dim=X_train.shape[1], activation='relu'))  # Input layer\n",
    "model.add(Dense(64, activation='relu'))  # Hidden layer\n",
    "model.add(Dense(y_train.shape[1], activation='softmax'))  # Output layer\n",
    "\n",
    "# Compile the model\n",
    "model.compile(loss='categorical_crossentropy', optimizer='adam', metrics=['accuracy'])"
   ]
  },
  {
   "cell_type": "code",
   "execution_count": 10,
   "metadata": {},
   "outputs": [
    {
     "name": "stdout",
     "output_type": "stream",
     "text": [
      "Epoch 1/100\n",
      "900/900 [==============================] - 3s 2ms/step - loss: 1.5973 - accuracy: 0.3066 - val_loss: 1.5399 - val_accuracy: 0.3367\n",
      "Epoch 2/100\n",
      "900/900 [==============================] - 2s 2ms/step - loss: 1.5070 - accuracy: 0.3523 - val_loss: 1.4921 - val_accuracy: 0.3732\n",
      "Epoch 3/100\n",
      "900/900 [==============================] - 2s 2ms/step - loss: 1.4739 - accuracy: 0.3712 - val_loss: 1.4874 - val_accuracy: 0.3631\n",
      "Epoch 4/100\n",
      "900/900 [==============================] - 2s 2ms/step - loss: 1.4536 - accuracy: 0.3909 - val_loss: 1.4565 - val_accuracy: 0.3947\n",
      "Epoch 5/100\n",
      "900/900 [==============================] - 2s 2ms/step - loss: 1.4305 - accuracy: 0.4062 - val_loss: 1.4625 - val_accuracy: 0.3896\n",
      "Epoch 6/100\n",
      "900/900 [==============================] - 2s 2ms/step - loss: 1.4119 - accuracy: 0.4174 - val_loss: 1.4172 - val_accuracy: 0.4201\n",
      "Epoch 7/100\n",
      "900/900 [==============================] - 2s 2ms/step - loss: 1.3950 - accuracy: 0.4272 - val_loss: 1.3999 - val_accuracy: 0.4282\n",
      "Epoch 8/100\n",
      "900/900 [==============================] - 2s 2ms/step - loss: 1.3823 - accuracy: 0.4301 - val_loss: 1.3818 - val_accuracy: 0.4363\n",
      "Epoch 9/100\n",
      "900/900 [==============================] - 2s 2ms/step - loss: 1.3677 - accuracy: 0.4384 - val_loss: 1.3799 - val_accuracy: 0.4360\n",
      "Epoch 10/100\n",
      "900/900 [==============================] - 2s 2ms/step - loss: 1.3576 - accuracy: 0.4445 - val_loss: 1.3643 - val_accuracy: 0.4453\n",
      "Epoch 11/100\n",
      "900/900 [==============================] - 2s 2ms/step - loss: 1.3512 - accuracy: 0.4481 - val_loss: 1.3628 - val_accuracy: 0.4424\n",
      "Epoch 12/100\n",
      "900/900 [==============================] - 2s 3ms/step - loss: 1.3409 - accuracy: 0.4537 - val_loss: 1.3575 - val_accuracy: 0.4487\n",
      "Epoch 13/100\n",
      "900/900 [==============================] - 1s 2ms/step - loss: 1.3319 - accuracy: 0.4579 - val_loss: 1.3396 - val_accuracy: 0.4610\n",
      "Epoch 14/100\n",
      "900/900 [==============================] - 2s 2ms/step - loss: 1.3219 - accuracy: 0.4632 - val_loss: 1.3588 - val_accuracy: 0.4424\n",
      "Epoch 15/100\n",
      "900/900 [==============================] - 2s 2ms/step - loss: 1.3144 - accuracy: 0.4660 - val_loss: 1.3348 - val_accuracy: 0.4564\n",
      "Epoch 16/100\n",
      "900/900 [==============================] - 2s 2ms/step - loss: 1.3042 - accuracy: 0.4728 - val_loss: 1.3458 - val_accuracy: 0.4561\n",
      "Epoch 17/100\n",
      "900/900 [==============================] - 2s 2ms/step - loss: 1.2990 - accuracy: 0.4748 - val_loss: 1.3137 - val_accuracy: 0.4726\n",
      "Epoch 18/100\n",
      "900/900 [==============================] - 2s 2ms/step - loss: 1.2920 - accuracy: 0.4743 - val_loss: 1.3048 - val_accuracy: 0.4743\n",
      "Epoch 19/100\n",
      "900/900 [==============================] - 2s 2ms/step - loss: 1.2842 - accuracy: 0.4816 - val_loss: 1.3007 - val_accuracy: 0.4682\n",
      "Epoch 20/100\n",
      "900/900 [==============================] - 2s 2ms/step - loss: 1.2764 - accuracy: 0.4855 - val_loss: 1.2941 - val_accuracy: 0.4750\n",
      "Epoch 21/100\n",
      "900/900 [==============================] - 1s 2ms/step - loss: 1.2689 - accuracy: 0.4898 - val_loss: 1.2819 - val_accuracy: 0.4835\n",
      "Epoch 22/100\n",
      "900/900 [==============================] - 2s 2ms/step - loss: 1.2638 - accuracy: 0.4896 - val_loss: 1.2801 - val_accuracy: 0.4888\n",
      "Epoch 23/100\n",
      "900/900 [==============================] - 2s 2ms/step - loss: 1.2584 - accuracy: 0.4952 - val_loss: 1.2708 - val_accuracy: 0.4875\n",
      "Epoch 24/100\n",
      "900/900 [==============================] - 2s 2ms/step - loss: 1.2528 - accuracy: 0.4958 - val_loss: 1.2696 - val_accuracy: 0.4871\n",
      "Epoch 25/100\n",
      "900/900 [==============================] - 2s 2ms/step - loss: 1.2485 - accuracy: 0.4992 - val_loss: 1.3012 - val_accuracy: 0.4664\n",
      "Epoch 26/100\n",
      "900/900 [==============================] - 1s 2ms/step - loss: 1.2393 - accuracy: 0.5034 - val_loss: 1.2689 - val_accuracy: 0.4844\n",
      "Epoch 27/100\n",
      "900/900 [==============================] - 2s 2ms/step - loss: 1.2335 - accuracy: 0.5072 - val_loss: 1.2656 - val_accuracy: 0.4890\n",
      "Epoch 28/100\n",
      "900/900 [==============================] - 1s 2ms/step - loss: 1.2279 - accuracy: 0.5089 - val_loss: 1.2605 - val_accuracy: 0.4858\n",
      "Epoch 29/100\n",
      "900/900 [==============================] - 2s 2ms/step - loss: 1.2201 - accuracy: 0.5138 - val_loss: 1.2618 - val_accuracy: 0.4885\n",
      "Epoch 30/100\n",
      "900/900 [==============================] - 2s 2ms/step - loss: 1.2175 - accuracy: 0.5131 - val_loss: 1.2522 - val_accuracy: 0.4960\n",
      "Epoch 31/100\n",
      "900/900 [==============================] - 2s 2ms/step - loss: 1.2119 - accuracy: 0.5147 - val_loss: 1.2471 - val_accuracy: 0.4988\n",
      "Epoch 32/100\n",
      "900/900 [==============================] - 2s 2ms/step - loss: 1.2069 - accuracy: 0.5169 - val_loss: 1.2376 - val_accuracy: 0.5054\n",
      "Epoch 33/100\n",
      "900/900 [==============================] - 2s 2ms/step - loss: 1.2022 - accuracy: 0.5208 - val_loss: 1.2582 - val_accuracy: 0.4938\n",
      "Epoch 34/100\n",
      "900/900 [==============================] - 2s 2ms/step - loss: 1.1973 - accuracy: 0.5235 - val_loss: 1.2419 - val_accuracy: 0.4989\n",
      "Epoch 35/100\n",
      "900/900 [==============================] - 2s 2ms/step - loss: 1.1913 - accuracy: 0.5252 - val_loss: 1.2265 - val_accuracy: 0.5035\n",
      "Epoch 36/100\n",
      "900/900 [==============================] - 2s 2ms/step - loss: 1.1861 - accuracy: 0.5263 - val_loss: 1.2185 - val_accuracy: 0.5057\n",
      "Epoch 37/100\n",
      "900/900 [==============================] - 2s 2ms/step - loss: 1.1816 - accuracy: 0.5292 - val_loss: 1.2267 - val_accuracy: 0.5064\n",
      "Epoch 38/100\n",
      "900/900 [==============================] - 2s 2ms/step - loss: 1.1766 - accuracy: 0.5333 - val_loss: 1.2177 - val_accuracy: 0.5071\n",
      "Epoch 39/100\n",
      "900/900 [==============================] - 2s 2ms/step - loss: 1.1745 - accuracy: 0.5334 - val_loss: 1.2257 - val_accuracy: 0.5088\n",
      "Epoch 40/100\n",
      "900/900 [==============================] - 1s 2ms/step - loss: 1.1669 - accuracy: 0.5360 - val_loss: 1.2174 - val_accuracy: 0.5125\n",
      "Epoch 41/100\n",
      "900/900 [==============================] - 2s 2ms/step - loss: 1.1647 - accuracy: 0.5381 - val_loss: 1.2275 - val_accuracy: 0.5101\n",
      "Epoch 42/100\n",
      "900/900 [==============================] - 2s 2ms/step - loss: 1.1578 - accuracy: 0.5411 - val_loss: 1.2172 - val_accuracy: 0.5047\n",
      "Epoch 43/100\n",
      "900/900 [==============================] - 2s 2ms/step - loss: 1.1514 - accuracy: 0.5427 - val_loss: 1.2027 - val_accuracy: 0.5171\n",
      "Epoch 44/100\n",
      "900/900 [==============================] - 2s 2ms/step - loss: 1.1491 - accuracy: 0.5455 - val_loss: 1.2005 - val_accuracy: 0.5206\n",
      "Epoch 45/100\n",
      "900/900 [==============================] - 2s 2ms/step - loss: 1.1479 - accuracy: 0.5464 - val_loss: 1.2101 - val_accuracy: 0.5200\n",
      "Epoch 46/100\n",
      "900/900 [==============================] - 2s 2ms/step - loss: 1.1416 - accuracy: 0.5498 - val_loss: 1.1809 - val_accuracy: 0.5236\n",
      "Epoch 47/100\n",
      "900/900 [==============================] - 2s 2ms/step - loss: 1.1359 - accuracy: 0.5510 - val_loss: 1.1888 - val_accuracy: 0.5275\n",
      "Epoch 48/100\n",
      "900/900 [==============================] - 2s 2ms/step - loss: 1.1324 - accuracy: 0.5532 - val_loss: 1.2022 - val_accuracy: 0.5150\n",
      "Epoch 49/100\n",
      "900/900 [==============================] - 2s 2ms/step - loss: 1.1259 - accuracy: 0.5568 - val_loss: 1.2162 - val_accuracy: 0.5147\n",
      "Epoch 50/100\n",
      "900/900 [==============================] - 2s 2ms/step - loss: 1.1237 - accuracy: 0.5602 - val_loss: 1.2033 - val_accuracy: 0.5161\n",
      "Epoch 51/100\n",
      "900/900 [==============================] - 2s 2ms/step - loss: 1.1193 - accuracy: 0.5603 - val_loss: 1.1779 - val_accuracy: 0.5351\n",
      "Epoch 52/100\n",
      "900/900 [==============================] - 1s 2ms/step - loss: 1.1156 - accuracy: 0.5598 - val_loss: 1.1782 - val_accuracy: 0.5261\n",
      "Epoch 53/100\n",
      "900/900 [==============================] - 2s 2ms/step - loss: 1.1124 - accuracy: 0.5644 - val_loss: 1.2448 - val_accuracy: 0.4986\n",
      "Epoch 54/100\n",
      "900/900 [==============================] - 2s 2ms/step - loss: 1.1070 - accuracy: 0.5652 - val_loss: 1.1657 - val_accuracy: 0.5336\n",
      "Epoch 55/100\n",
      "900/900 [==============================] - 2s 2ms/step - loss: 1.1058 - accuracy: 0.5655 - val_loss: 1.1544 - val_accuracy: 0.5369\n",
      "Epoch 56/100\n",
      "900/900 [==============================] - 1s 2ms/step - loss: 1.0991 - accuracy: 0.5690 - val_loss: 1.1832 - val_accuracy: 0.5232\n",
      "Epoch 57/100\n",
      "900/900 [==============================] - 2s 2ms/step - loss: 1.0932 - accuracy: 0.5709 - val_loss: 1.1692 - val_accuracy: 0.5351\n",
      "Epoch 58/100\n",
      "900/900 [==============================] - 2s 2ms/step - loss: 1.0931 - accuracy: 0.5722 - val_loss: 1.1469 - val_accuracy: 0.5468\n",
      "Epoch 59/100\n",
      "900/900 [==============================] - 1s 2ms/step - loss: 1.0869 - accuracy: 0.5763 - val_loss: 1.1628 - val_accuracy: 0.5375\n",
      "Epoch 60/100\n",
      "900/900 [==============================] - 2s 2ms/step - loss: 1.0830 - accuracy: 0.5787 - val_loss: 1.1469 - val_accuracy: 0.5433\n",
      "Epoch 61/100\n",
      "900/900 [==============================] - 1s 2ms/step - loss: 1.0812 - accuracy: 0.5778 - val_loss: 1.1606 - val_accuracy: 0.5360\n",
      "Epoch 62/100\n",
      "900/900 [==============================] - 2s 2ms/step - loss: 1.0775 - accuracy: 0.5791 - val_loss: 1.1477 - val_accuracy: 0.5456\n",
      "Epoch 63/100\n",
      "900/900 [==============================] - 2s 2ms/step - loss: 1.0734 - accuracy: 0.5809 - val_loss: 1.1584 - val_accuracy: 0.5411\n",
      "Epoch 64/100\n",
      "900/900 [==============================] - 2s 2ms/step - loss: 1.0706 - accuracy: 0.5833 - val_loss: 1.1621 - val_accuracy: 0.5425\n",
      "Epoch 65/100\n",
      "900/900 [==============================] - 2s 2ms/step - loss: 1.0686 - accuracy: 0.5830 - val_loss: 1.1446 - val_accuracy: 0.5461\n",
      "Epoch 66/100\n",
      "900/900 [==============================] - 2s 2ms/step - loss: 1.0620 - accuracy: 0.5843 - val_loss: 1.1431 - val_accuracy: 0.5522\n",
      "Epoch 67/100\n",
      "900/900 [==============================] - 2s 2ms/step - loss: 1.0618 - accuracy: 0.5844 - val_loss: 1.1425 - val_accuracy: 0.5504\n",
      "Epoch 68/100\n",
      "900/900 [==============================] - 2s 2ms/step - loss: 1.0584 - accuracy: 0.5883 - val_loss: 1.1397 - val_accuracy: 0.5508\n",
      "Epoch 69/100\n",
      "900/900 [==============================] - 2s 2ms/step - loss: 1.0557 - accuracy: 0.5894 - val_loss: 1.1373 - val_accuracy: 0.5508\n",
      "Epoch 70/100\n",
      "900/900 [==============================] - 2s 2ms/step - loss: 1.0514 - accuracy: 0.5913 - val_loss: 1.1311 - val_accuracy: 0.5601\n",
      "Epoch 71/100\n",
      "900/900 [==============================] - 2s 2ms/step - loss: 1.0453 - accuracy: 0.5942 - val_loss: 1.1316 - val_accuracy: 0.5524\n",
      "Epoch 72/100\n",
      "900/900 [==============================] - 2s 2ms/step - loss: 1.0441 - accuracy: 0.5958 - val_loss: 1.1267 - val_accuracy: 0.5606\n",
      "Epoch 73/100\n",
      "900/900 [==============================] - 2s 2ms/step - loss: 1.0395 - accuracy: 0.5979 - val_loss: 1.1290 - val_accuracy: 0.5644\n",
      "Epoch 74/100\n",
      "900/900 [==============================] - 2s 2ms/step - loss: 1.0407 - accuracy: 0.5971 - val_loss: 1.1373 - val_accuracy: 0.5519\n",
      "Epoch 75/100\n",
      "900/900 [==============================] - 2s 2ms/step - loss: 1.0354 - accuracy: 0.5987 - val_loss: 1.1261 - val_accuracy: 0.5561\n",
      "Epoch 76/100\n",
      "900/900 [==============================] - 2s 2ms/step - loss: 1.0339 - accuracy: 0.5969 - val_loss: 1.1193 - val_accuracy: 0.5547\n",
      "Epoch 77/100\n",
      "900/900 [==============================] - 2s 2ms/step - loss: 1.0287 - accuracy: 0.5990 - val_loss: 1.1145 - val_accuracy: 0.5607\n",
      "Epoch 78/100\n",
      "900/900 [==============================] - 2s 2ms/step - loss: 1.0259 - accuracy: 0.6032 - val_loss: 1.1351 - val_accuracy: 0.5506\n",
      "Epoch 79/100\n",
      "900/900 [==============================] - 1s 2ms/step - loss: 1.0240 - accuracy: 0.6047 - val_loss: 1.1197 - val_accuracy: 0.5636\n",
      "Epoch 80/100\n",
      "900/900 [==============================] - 2s 2ms/step - loss: 1.0226 - accuracy: 0.6061 - val_loss: 1.1450 - val_accuracy: 0.5478\n",
      "Epoch 81/100\n",
      "900/900 [==============================] - 2s 2ms/step - loss: 1.0184 - accuracy: 0.6053 - val_loss: 1.1193 - val_accuracy: 0.5603\n",
      "Epoch 82/100\n",
      "900/900 [==============================] - 1s 2ms/step - loss: 1.0201 - accuracy: 0.6071 - val_loss: 1.1028 - val_accuracy: 0.5697\n",
      "Epoch 83/100\n",
      "900/900 [==============================] - 2s 2ms/step - loss: 1.0109 - accuracy: 0.6110 - val_loss: 1.1106 - val_accuracy: 0.5628\n",
      "Epoch 84/100\n",
      "900/900 [==============================] - 2s 2ms/step - loss: 1.0098 - accuracy: 0.6087 - val_loss: 1.1325 - val_accuracy: 0.5539\n",
      "Epoch 85/100\n",
      "900/900 [==============================] - 2s 2ms/step - loss: 1.0100 - accuracy: 0.6123 - val_loss: 1.1349 - val_accuracy: 0.5601\n",
      "Epoch 86/100\n",
      "900/900 [==============================] - 2s 2ms/step - loss: 1.0041 - accuracy: 0.6139 - val_loss: 1.1190 - val_accuracy: 0.5714\n",
      "Epoch 87/100\n",
      "900/900 [==============================] - 2s 2ms/step - loss: 1.0045 - accuracy: 0.6123 - val_loss: 1.1041 - val_accuracy: 0.5760\n",
      "Epoch 88/100\n",
      "900/900 [==============================] - 2s 2ms/step - loss: 1.0001 - accuracy: 0.6134 - val_loss: 1.0976 - val_accuracy: 0.5785\n",
      "Epoch 89/100\n",
      "900/900 [==============================] - 2s 2ms/step - loss: 1.0005 - accuracy: 0.6155 - val_loss: 1.1372 - val_accuracy: 0.5569\n",
      "Epoch 90/100\n",
      "900/900 [==============================] - 2s 2ms/step - loss: 0.9980 - accuracy: 0.6145 - val_loss: 1.1129 - val_accuracy: 0.5667\n",
      "Epoch 91/100\n",
      "900/900 [==============================] - 2s 2ms/step - loss: 0.9937 - accuracy: 0.6178 - val_loss: 1.0907 - val_accuracy: 0.5810\n",
      "Epoch 92/100\n",
      "900/900 [==============================] - 2s 2ms/step - loss: 0.9920 - accuracy: 0.6168 - val_loss: 1.1052 - val_accuracy: 0.5743\n",
      "Epoch 93/100\n",
      "900/900 [==============================] - 2s 3ms/step - loss: 0.9887 - accuracy: 0.6202 - val_loss: 1.1162 - val_accuracy: 0.5668\n",
      "Epoch 94/100\n",
      "900/900 [==============================] - 2s 2ms/step - loss: 0.9846 - accuracy: 0.6218 - val_loss: 1.0989 - val_accuracy: 0.5801\n",
      "Epoch 95/100\n",
      "900/900 [==============================] - 2s 2ms/step - loss: 0.9819 - accuracy: 0.6227 - val_loss: 1.1029 - val_accuracy: 0.5674\n",
      "Epoch 96/100\n",
      "900/900 [==============================] - 2s 2ms/step - loss: 0.9800 - accuracy: 0.6233 - val_loss: 1.1069 - val_accuracy: 0.5765\n",
      "Epoch 97/100\n",
      "900/900 [==============================] - 2s 2ms/step - loss: 0.9788 - accuracy: 0.6260 - val_loss: 1.1040 - val_accuracy: 0.5761\n",
      "Epoch 98/100\n",
      "900/900 [==============================] - 2s 2ms/step - loss: 0.9780 - accuracy: 0.6227 - val_loss: 1.1215 - val_accuracy: 0.5694\n",
      "Epoch 99/100\n",
      "900/900 [==============================] - 2s 2ms/step - loss: 0.9753 - accuracy: 0.6262 - val_loss: 1.0958 - val_accuracy: 0.5719\n",
      "Epoch 100/100\n",
      "900/900 [==============================] - 2s 2ms/step - loss: 0.9719 - accuracy: 0.6280 - val_loss: 1.0811 - val_accuracy: 0.5835\n",
      "282/282 [==============================] - 0s 1ms/step - loss: 1.0311 - accuracy: 0.6087\n",
      "Test Loss: 1.0311462879180908, Test Accuracy: 0.6086666584014893\n"
     ]
    }
   ],
   "source": [
    "# Train the model\n",
    "history = model.fit(X_train, y_train, epochs=100, batch_size=32, validation_split=0.2)\n",
    "\n",
    "# Evaluate the model on the test set\n",
    "loss, accuracy = model.evaluate(X_test, y_test)\n",
    "print(f'Test Loss: {loss}, Test Accuracy: {accuracy}')"
   ]
  },
  {
   "cell_type": "code",
   "execution_count": 11,
   "metadata": {},
   "outputs": [
    {
     "name": "stderr",
     "output_type": "stream",
     "text": [
      "/Users/Philipp/opt/anaconda3/envs/projects/lib/python3.11/site-packages/keras/src/engine/training.py:3103: UserWarning: You are saving your model as an HDF5 file via `model.save()`. This file format is considered legacy. We recommend using instead the native Keras format, e.g. `model.save('my_model.keras')`.\n",
      "  saving_api.save_model(\n"
     ]
    }
   ],
   "source": [
    "model.save('model.h5')"
   ]
  },
  {
   "cell_type": "code",
   "execution_count": 12,
   "metadata": {},
   "outputs": [
    {
     "data": {
      "image/png": "[encoded data removed]",
      "text/plain": [
       "<Figure size 640x480 with 1 Axes>"
      ]
     },
     "metadata": {},
     "output_type": "display_data"
    }
   ],
   "source": [
    "fig, ax = plt.subplots(1, 1)\n",
    "\n",
    "sns.lineplot(\n",
    "    history.history['accuracy'],\n",
    "    ax=ax\n",
    ")\n",
    "\n",
    "sns.lineplot(\n",
    "    history.history['val_accuracy'],\n",
    "    ax=ax\n",
    ")\n",
    "\n",
    "plt.show()"
   ]
  },
  {
   "cell_type": "markdown",
   "metadata": {},
   "source": [
    "### Test on some small data"
   ]
  },
  {
   "cell_type": "code",
   "execution_count": 13,
   "metadata": {},
   "outputs": [],
   "source": [
    "tuple_test_data = (\n",
    "    ('zucker fabrik', 'ft'),\n",
    "    ('Lebensmittel kommssionierung', 'ft'),\n",
    "    ('geländer biegen', 'mr'),\n",
    "    ('gebäudeausrüstung technische', 'ct'),\n",
    "    ('kürbiskernöl softgels', 'ft')\n",
    ")"
   ]
  },
  {
   "cell_type": "code",
   "execution_count": 19,
   "metadata": {},
   "outputs": [
    {
     "name": "stdout",
     "output_type": "stream",
     "text": [
      "1/1 [==============================] - 0s 25ms/step\n",
      "For word zucker fabrik\n",
      "We predict ct\n",
      "The correct solution is ft\n",
      "\n",
      "1/1 [==============================] - 0s 24ms/step\n",
      "For word Lebensmittel kommssionierung\n",
      "We predict ft\n",
      "The correct solution is ft\n",
      "\n",
      "1/1 [==============================] - 0s 23ms/step\n",
      "For word geländer biegen\n",
      "We predict mr\n",
      "The correct solution is mr\n",
      "\n",
      "1/1 [==============================] - 0s 21ms/step\n",
      "For word gebäudeausrüstung technische\n",
      "We predict ch\n",
      "The correct solution is ct\n",
      "\n",
      "1/1 [==============================] - 0s 21ms/step\n",
      "For word kürbiskernöl softgels\n",
      "We predict ch\n",
      "The correct solution is ft\n",
      "\n"
     ]
    }
   ],
   "source": [
    "for sample in tuple_test_data:\n",
    "    word = sample[0]\n",
    "    correct = sample[1]\n",
    "    new_word_embedding = text_to_embeddings(word).reshape(1, -1) \n",
    "\n",
    "    # Predict the label for the embedded word\n",
    "    predicted_probabilities = model.predict(new_word_embedding)\n",
    "    predicted_label_index = predicted_probabilities.argmax(axis=1)[0]\n",
    "    predicted_label = label_encoder.inverse_transform([predicted_label_index])\n",
    "\n",
    "    print(f'For word {word}')\n",
    "    print(f'We predict {predicted_label[0]}')\n",
    "    print(f'The correct solution is {correct}')\n",
    "    print()"
   ]
  },
  {
   "cell_type": "code",
   "execution_count": 17,
   "metadata": {},
   "outputs": [],
   "source": [
    "with open('label_encoder.pkl', 'rb') as f:\n",
    "    label_encoder = pickle.load(f)"
   ]
  }
 ],
 "metadata": {
  "kernelspec": {
   "display_name": "projects",
   "language": "python",
   "name": "python3"
  },
  "language_info": {
   "codemirror_mode": {
    "name": "ipython",
    "version": 3
   },
   "file_extension": ".py",
   "mimetype": "text/x-python",
   "name": "python",
   "nbconvert_exporter": "python",
   "pygments_lexer": "ipython3",
   "version": "3.11.4"
  }
 },
 "nbformat": 4,
 "nbformat_minor": 2
}
